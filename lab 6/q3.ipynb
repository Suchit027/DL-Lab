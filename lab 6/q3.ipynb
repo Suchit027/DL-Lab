{
 "cells": [
  {
   "cell_type": "code",
   "execution_count": 1,
   "metadata": {},
   "outputs": [],
   "source": [
    "import torch\n",
    "import torch.nn as nn\n",
    "import torch.optim as optim\n",
    "from torchvision import datasets, transforms\n",
    "from torch.utils.data import DataLoader"
   ]
  },
  {
   "cell_type": "code",
   "execution_count": 2,
   "metadata": {},
   "outputs": [],
   "source": [
    "class CheckpointHandler:\n",
    "    def __init__(self, best_valid_loss=float('inf')):\n",
    "        self.best_valid_loss = best_valid_loss\n",
    "    \n",
    "    def save_best_model(self, state, filename):\n",
    "        if state['loss'] < self.best_valid_loss:\n",
    "            self.best_valid_loss = state['loss']\n",
    "            torch.save(state, filename)\n",
    "            print('checkpoint file updated')"
   ]
  },
  {
   "cell_type": "code",
   "execution_count": 3,
   "metadata": {},
   "outputs": [],
   "source": [
    "class CNN(nn.Module):\n",
    "    def __init__(self):\n",
    "        super().__init__()\n",
    "        self.net = nn.Sequential(nn.Conv2d(1, 32, kernel_size= 3),\n",
    "                                 nn.ReLU(),\n",
    "                                 nn.MaxPool2d((2, 2), stride= 2),\n",
    "                                 nn.Conv2d(32, 64, kernel_size= 3),\n",
    "                                 nn.ReLU(),\n",
    "                                 nn.MaxPool2d((2, 2), stride= 2),\n",
    "                                 nn.Conv2d(64, 32, kernel_size= 3),\n",
    "                                 nn.ReLU(),\n",
    "                                 nn.MaxPool2d((2, 2), stride= 2)\n",
    "                                 )\n",
    "        self.classify_head = nn.Sequential(nn.Flatten(),\n",
    "                                           nn.Linear(32, 20, bias= True),\n",
    "                                           nn.Linear(20, 10, bias= True))\n",
    "    def forward(self, x):\n",
    "        return self.classify_head(self.net(x))"
   ]
  },
  {
   "cell_type": "code",
   "execution_count": 4,
   "metadata": {},
   "outputs": [],
   "source": [
    "model = CNN()\n",
    "model.to('cuda')\n",
    "optimizer = optim.SGD(model.parameters(), lr= 0.001)\n",
    "criterion = nn.CrossEntropyLoss()\n",
    "checkpoint_handler = CheckpointHandler()"
   ]
  },
  {
   "cell_type": "code",
   "execution_count": 5,
   "metadata": {},
   "outputs": [],
   "source": [
    "transforms = transforms.Compose([transforms.ToTensor(), transforms.Normalize((0.5, ), (0.5, ))])\n",
    "train = datasets.MNIST('.', train= True, download= True, transform= transforms)\n",
    "test = datasets.MNIST('.', download= True, train= False, transform= transforms)\n",
    "train_loader = DataLoader(train, batch_size= 64, shuffle= True)\n",
    "test_loader = DataLoader(test, batch_size= 64)"
   ]
  },
  {
   "cell_type": "code",
   "execution_count": 6,
   "metadata": {},
   "outputs": [
    {
     "name": "stdout",
     "output_type": "stream",
     "text": [
      "Epoch - 0, loss = 2160.1290917396545\n",
      "checkpoint file updated\n",
      "Epoch - 1, loss = 2151.158231973648\n",
      "checkpoint file updated\n",
      "Epoch - 2, loss = 2140.428228378296\n",
      "checkpoint file updated\n",
      "Epoch - 3, loss = 2125.0057702064514\n",
      "checkpoint file updated\n",
      "Epoch - 4, loss = 2097.898699760437\n",
      "checkpoint file updated\n",
      "Epoch - 5, loss = 2042.660430431366\n",
      "checkpoint file updated\n",
      "Epoch - 6, loss = 1921.1561652421951\n",
      "checkpoint file updated\n",
      "Epoch - 7, loss = 1714.6891666650772\n",
      "checkpoint file updated\n",
      "Epoch - 8, loss = 1445.5838387012482\n",
      "checkpoint file updated\n",
      "Epoch - 9, loss = 1109.99817186594\n",
      "checkpoint file updated\n"
     ]
    }
   ],
   "source": [
    "for epoch in range(10):\n",
    "    model.train()\n",
    "    running_loss = 0\n",
    "    for input, target in train_loader:\n",
    "        input, target = input.to('cuda'), target.to('cuda')\n",
    "        optimizer.zero_grad()\n",
    "        output = model(input)\n",
    "        loss = criterion(output, target)\n",
    "        loss.backward()\n",
    "        optimizer.step()\n",
    "        running_loss += loss.item()\n",
    "    print(f'Epoch - {epoch}, loss = {running_loss}')\n",
    "\n",
    "    state = {'epoch': epoch,\n",
    "             'model_state_dict': model.state_dict(),\n",
    "             'optimizer_state_dict': optimizer.state_dict(),\n",
    "             'loss': running_loss}\n",
    "\n",
    "    checkpoint_handler.save_best_model(state, './q3_checkpoints/checkpoint_best.pth')"
   ]
  },
  {
   "cell_type": "code",
   "execution_count": 7,
   "metadata": {},
   "outputs": [],
   "source": [
    "# retraining\n",
    "model = CNN()\n",
    "checkpoint = torch.load('./q3_checkpoints/checkpoint_best.pth', weights_only= False)\n",
    "model.load_state_dict(checkpoint['model_state_dict'])\n",
    "optimizer = torch.optim.SGD(model.parameters(), lr = 0.001)\n",
    "optimizer.load_state_dict(checkpoint['optimizer_state_dict'])\n",
    "criterion = nn.CrossEntropyLoss()"
   ]
  },
  {
   "cell_type": "code",
   "execution_count": 8,
   "metadata": {},
   "outputs": [
    {
     "name": "stdout",
     "output_type": "stream",
     "text": [
      "Epoch - 0, loss = 819.0250169038773\n",
      "checkpoint file updated\n",
      "Epoch - 1, loss = 632.2271310389042\n",
      "checkpoint file updated\n",
      "Epoch - 2, loss = 509.1673307865858\n",
      "checkpoint file updated\n",
      "Epoch - 3, loss = 422.3464578092098\n",
      "checkpoint file updated\n",
      "Epoch - 4, loss = 360.0502180606127\n",
      "checkpoint file updated\n",
      "Epoch - 5, loss = 315.3632535338402\n",
      "checkpoint file updated\n",
      "Epoch - 6, loss = 282.4337933883071\n",
      "checkpoint file updated\n",
      "Epoch - 7, loss = 257.16326431185007\n",
      "checkpoint file updated\n",
      "Epoch - 8, loss = 237.74852107465267\n",
      "checkpoint file updated\n",
      "Epoch - 9, loss = 221.97417832911015\n",
      "checkpoint file updated\n"
     ]
    }
   ],
   "source": [
    "model.to('cuda')\n",
    "for epoch in range(10):\n",
    "    model.train()\n",
    "    running_loss = 0\n",
    "    for input, target in train_loader:\n",
    "        input, target = input.to('cuda'), target.to('cuda')\n",
    "        optimizer.zero_grad()\n",
    "        output = model(input)\n",
    "        loss = criterion(output, target)\n",
    "        loss.backward()\n",
    "        optimizer.step()\n",
    "        running_loss += loss.item()\n",
    "    print(f'Epoch - {epoch}, loss = {running_loss}')\n",
    "\n",
    "    state = {'epoch': epoch,\n",
    "             'model_state_dict': model.state_dict(),\n",
    "             'optimizer_state_dict': optimizer.state_dict(),\n",
    "             'loss': running_loss}\n",
    "\n",
    "    checkpoint_handler.save_best_model(state, './q3_checkpoints/checkpoint_best.pth')"
   ]
  },
  {
   "cell_type": "code",
   "execution_count": 10,
   "metadata": {},
   "outputs": [
    {
     "name": "stdout",
     "output_type": "stream",
     "text": [
      "0.9368\n"
     ]
    }
   ],
   "source": [
    "all_preds, all_target = [], []\n",
    "model.eval()\n",
    "with torch.no_grad():\n",
    "    for input, target in test_loader:\n",
    "        input, target = input.to('cuda'), target.to('cuda')\n",
    "        output = model(input)\n",
    "        val, index = torch.max(output, dim= 1)\n",
    "        all_preds.extend(index.to('cpu'))\n",
    "        all_target.extend(target.to('cpu'))\n",
    "from sklearn.metrics import accuracy_score\n",
    "print(accuracy_score(all_preds, all_target))"
   ]
  },
  {
   "cell_type": "code",
   "execution_count": null,
   "metadata": {},
   "outputs": [],
   "source": []
  }
 ],
 "metadata": {
  "kernelspec": {
   "display_name": "venv",
   "language": "python",
   "name": "python3"
  },
  "language_info": {
   "codemirror_mode": {
    "name": "ipython",
    "version": 3
   },
   "file_extension": ".py",
   "mimetype": "text/x-python",
   "name": "python",
   "nbconvert_exporter": "python",
   "pygments_lexer": "ipython3",
   "version": "3.12.3"
  }
 },
 "nbformat": 4,
 "nbformat_minor": 2
}
