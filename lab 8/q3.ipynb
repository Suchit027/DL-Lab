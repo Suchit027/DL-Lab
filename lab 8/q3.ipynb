{
 "cells": [
  {
   "cell_type": "code",
   "execution_count": 1,
   "id": "23ff7811",
   "metadata": {},
   "outputs": [],
   "source": [
    "import torch"
   ]
  },
  {
   "cell_type": "code",
   "execution_count": 2,
   "id": "49edac3e",
   "metadata": {},
   "outputs": [],
   "source": [
    "data = 'I love neural networks.'\n",
    "vocabulary = set()\n",
    "for char in list(data):\n",
    "    vocabulary.add(char)\n",
    "vocabulary = list(vocabulary)\n",
    "input_dim = len(vocabulary) + 1"
   ]
  },
  {
   "cell_type": "code",
   "execution_count": null,
   "id": "7cf5a729",
   "metadata": {},
   "outputs": [],
   "source": [
    "class Data(torch.utils.data.)"
   ]
  }
 ],
 "metadata": {
  "kernelspec": {
   "display_name": "venv",
   "language": "python",
   "name": "python3"
  },
  "language_info": {
   "codemirror_mode": {
    "name": "ipython",
    "version": 3
   },
   "file_extension": ".py",
   "mimetype": "text/x-python",
   "name": "python",
   "nbconvert_exporter": "python",
   "pygments_lexer": "ipython3",
   "version": "3.13.2"
  }
 },
 "nbformat": 4,
 "nbformat_minor": 5
}
