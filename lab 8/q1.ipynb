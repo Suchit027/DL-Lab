{
 "cells": [
  {
   "cell_type": "code",
   "execution_count": 22,
   "metadata": {},
   "outputs": [],
   "source": [
    "import numpy as np\n",
    "from matplotlib import pyplot as plt\n",
    "import torch\n",
    "from torch.utils.data import Dataset, DataLoader\n",
    "import pandas as pd"
   ]
  },
  {
   "cell_type": "code",
   "execution_count": 23,
   "metadata": {},
   "outputs": [],
   "source": [
    "df = pd.read_csv('./daily_csv.csv')\n",
    "df = df.dropna()\n",
    "y = df['Price'].values\n",
    "x = np.arange(1, len(y), 1)\n",
    "minn, maxx = y.min(), y.max()\n",
    "y = (y - minn) / (maxx - minn)\n",
    "sequence_length = 10\n",
    "X, Y = [], []\n",
    "for i in range(5900):\n",
    "    l = []\n",
    "    for j in range(i, i + sequence_length):\n",
    "        l.append(y[j])\n",
    "    X.append(l)\n",
    "    Y.append(y[i + sequence_length])\n",
    "X = np.array(X)\n",
    "Y = np.array(Y)"
   ]
  },
  {
   "cell_type": "code",
   "execution_count": 24,
   "metadata": {},
   "outputs": [],
   "source": [
    "from sklearn.model_selection import train_test_split\n",
    "xtrain, xtest, ytrain, ytest = train_test_split(X, Y, test_size=0.10, random_state=42, shuffle= False, stratify= None)"
   ]
  },
  {
   "cell_type": "code",
   "execution_count": 25,
   "metadata": {},
   "outputs": [],
   "source": [
    "class Data(Dataset):\n",
    "    def __init__(self, x, y):\n",
    "        super().__init__()\n",
    "        self.x = torch.tensor(x, dtype= torch.float32)\n",
    "        self.y = torch.tensor(y, dtype= torch.float32)\n",
    "    def __getitem__(self, ind):\n",
    "        return self.x[ind], self.y[ind]\n",
    "    def __len__(self, ):\n",
    "        return self.x.shape[0]"
   ]
  },
  {
   "cell_type": "code",
   "execution_count": 26,
   "metadata": {},
   "outputs": [],
   "source": [
    "train = Data(xtrain, ytrain)\n",
    "train_loader = DataLoader(train, shuffle= True, batch_size= 256, drop_last= True)\n",
    "test = Data(xtest, ytest)\n",
    "test_loader = DataLoader(test, batch_size= 256, drop_last= True)"
   ]
  },
  {
   "cell_type": "code",
   "execution_count": 27,
   "metadata": {},
   "outputs": [],
   "source": [
    "class RNNModel(torch.nn.Module):\n",
    "    def __init__(self):\n",
    "        super().__init__()\n",
    "        self.rnn = torch.nn.RNN(input_size=1, hidden_size= 5, num_layers= 1, batch_first= True)\n",
    "        self.fc1 = torch.nn.Linear(in_features= 5, out_features= 1)\n",
    "    def forward(self, x):\n",
    "        y, h = self.rnn(x)\n",
    "        # trying to extract the last output of entire vector for all layers and directions\n",
    "        y = y[: , -1, : ]\n",
    "        y = self.fc1(torch.relu(y))\n",
    "        return y"
   ]
  },
  {
   "cell_type": "code",
   "execution_count": 28,
   "metadata": {},
   "outputs": [],
   "source": [
    "model = RNNModel()\n",
    "model.to('cuda')\n",
    "criterion = torch.nn.MSELoss()\n",
    "optimizer = torch.optim.Adam(model.parameters(), lr = 0.0001)"
   ]
  },
  {
   "cell_type": "code",
   "execution_count": 29,
   "metadata": {},
   "outputs": [
    {
     "name": "stdout",
     "output_type": "stream",
     "text": [
      "epoch - 0, loss - 0.3561137607321143\n",
      "epoch - 50, loss - 0.1762724737636745\n",
      "epoch - 100, loss - 0.015560534346150234\n",
      "epoch - 150, loss - 0.009564765845425427\n",
      "epoch - 200, loss - 0.008302963033202104\n",
      "epoch - 250, loss - 0.007863947088480927\n",
      "epoch - 300, loss - 0.0073069755744654685\n",
      "epoch - 350, loss - 0.006735996423230972\n",
      "epoch - 400, loss - 0.00671276832872536\n",
      "epoch - 450, loss - 0.006378016514645424\n",
      "epoch - 500, loss - 0.005106864307890646\n",
      "epoch - 550, loss - 0.006063235276087653\n",
      "epoch - 600, loss - 0.0059487084072316065\n",
      "epoch - 650, loss - 0.005864939703315031\n",
      "epoch - 700, loss - 0.005775450830697082\n",
      "epoch - 750, loss - 0.005416631691332441\n",
      "epoch - 800, loss - 0.005506447996594943\n",
      "epoch - 850, loss - 0.0054218868317548186\n",
      "epoch - 900, loss - 0.00537783422623761\n",
      "epoch - 950, loss - 0.005239460268057883\n",
      "epoch - 1000, loss - 0.005133400743943639\n",
      "epoch - 1050, loss - 0.0050511166045907885\n",
      "epoch - 1100, loss - 0.004924915869196411\n",
      "epoch - 1150, loss - 0.0048647876174072735\n",
      "epoch - 1200, loss - 0.004945924454659689\n",
      "epoch - 1250, loss - 0.004856431725784205\n",
      "epoch - 1300, loss - 0.00475833953532856\n",
      "epoch - 1350, loss - 0.0047474458333454095\n",
      "epoch - 1400, loss - 0.004671272814448457\n",
      "epoch - 1450, loss - 0.0046889157965779305\n"
     ]
    }
   ],
   "source": [
    "for epoch in range(1500):\n",
    "    running_loss = 0.0\n",
    "    for input, target in train_loader:\n",
    "        optimizer.zero_grad()\n",
    "        input, target = input.reshape((-1, sequence_length, 1)).to('cuda'), target.to('cuda')\n",
    "        output = model(input).reshape(-1)\n",
    "        loss = criterion(output, target)\n",
    "        loss.backward()\n",
    "        running_loss += loss.item()\n",
    "        optimizer.step()\n",
    "    if epoch % 50 == 0:\n",
    "        print(f'epoch - {epoch}, loss - {running_loss}')"
   ]
  },
  {
   "cell_type": "code",
   "execution_count": 30,
   "metadata": {},
   "outputs": [],
   "source": [
    "model.eval()\n",
    "all_preds, all_labels = [], []\n",
    "for input, target in test_loader:\n",
    "    input, target = input.reshape((-1, sequence_length, 1)).to('cuda'), target.to('cuda')\n",
    "    output = model(input).reshape(-1)\n",
    "    all_preds.extend(output.to('cpu').detach().numpy())\n",
    "    all_labels.extend(target.to('cpu').detach().numpy())"
   ]
  },
  {
   "cell_type": "code",
   "execution_count": 31,
   "metadata": {},
   "outputs": [
    {
     "name": "stdout",
     "output_type": "stream",
     "text": [
      "4.51410705445626e-05\n"
     ]
    }
   ],
   "source": [
    "from sklearn.metrics import mean_squared_error\n",
    "print(mean_squared_error(all_preds, all_labels))"
   ]
  }
 ],
 "metadata": {
  "kernelspec": {
   "display_name": "venv",
   "language": "python",
   "name": "python3"
  },
  "language_info": {
   "codemirror_mode": {
    "name": "ipython",
    "version": 3
   },
   "file_extension": ".py",
   "mimetype": "text/x-python",
   "name": "python",
   "nbconvert_exporter": "python",
   "pygments_lexer": "ipython3",
   "version": "3.13.2"
  }
 },
 "nbformat": 4,
 "nbformat_minor": 2
}
