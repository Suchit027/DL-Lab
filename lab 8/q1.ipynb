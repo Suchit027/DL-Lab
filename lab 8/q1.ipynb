{
 "cells": [
  {
   "cell_type": "code",
   "execution_count": 1,
   "metadata": {},
   "outputs": [],
   "source": [
    "import numpy as np\n",
    "from matplotlib import pyplot as plt\n",
    "import torch\n",
    "from torch.utils.data import Dataset, DataLoader\n",
    "import pandas as pd"
   ]
  },
  {
   "cell_type": "code",
   "execution_count": 2,
   "metadata": {},
   "outputs": [],
   "source": [
    "df = pd.read_csv('./daily_csv.csv')\n",
    "df = df.dropna()\n",
    "y = df['Price'].values\n",
    "x = np.arange(1, len(y), 1)\n",
    "minn, maxx = y.min(), y.max()\n",
    "y = (y - minn) / (maxx - minn)\n",
    "sequence_length = 10\n",
    "X, Y = [], []\n",
    "for i in range(5900):\n",
    "    l = []\n",
    "    for j in range(i, i + sequence_length):\n",
    "        l.append(y[j])\n",
    "    X.append(l)\n",
    "    Y.append(y[j + 1])\n",
    "X = np.array(X)\n",
    "Y = np.array(Y)"
   ]
  },
  {
   "cell_type": "code",
   "execution_count": 3,
   "metadata": {},
   "outputs": [],
   "source": [
    "from sklearn.model_selection import train_test_split\n",
    "xtrain, xtest, ytrain, ytest = train_test_split(X, Y, test_size=0.10, random_state=42, shuffle= False, stratify= None)"
   ]
  },
  {
   "cell_type": "code",
   "execution_count": 4,
   "metadata": {},
   "outputs": [],
   "source": [
    "class Data(Dataset):\n",
    "    def __init__(self, x, y):\n",
    "        super().__init__()\n",
    "        self.x = torch.tensor(x, dtype= torch.float32)\n",
    "        self.y = torch.tensor(y, dtype= torch.float32)\n",
    "    def __getitem__(self, ind):\n",
    "        return self.x[ind], self.y[ind]\n",
    "    def __len__(self, ):\n",
    "        return self.x.shape[0]"
   ]
  },
  {
   "cell_type": "code",
   "execution_count": 5,
   "metadata": {},
   "outputs": [],
   "source": [
    "train = Data(xtrain, ytrain)\n",
    "train_loader = DataLoader(train, shuffle= True, batch_size= 256, drop_last= True)\n",
    "test = Data(xtest, ytest)\n",
    "test_loader = DataLoader(test, batch_size= 256, drop_last= True)"
   ]
  },
  {
   "cell_type": "code",
   "execution_count": 6,
   "metadata": {},
   "outputs": [],
   "source": [
    "class RNNModel(torch.nn.Module):\n",
    "    def __init__(self):\n",
    "        super().__init__()\n",
    "        self.rnn = torch.nn.RNN(input_size=1, hidden_size= 5, num_layers= 1, batch_first= True)\n",
    "        self.fc1 = torch.nn.Linear(in_features= 5, out_features= 1)\n",
    "    def forward(self, x):\n",
    "        y, h = self.rnn(x)\n",
    "        # trying to extract the last output of entire vector for all layers and directions\n",
    "        y = y[: , -1, : ]\n",
    "        y = self.fc1(torch.relu(y))\n",
    "        return y"
   ]
  },
  {
   "cell_type": "code",
   "execution_count": 7,
   "metadata": {},
   "outputs": [],
   "source": [
    "model = RNNModel()\n",
    "model.to('cuda')\n",
    "criterion = torch.nn.MSELoss()\n",
    "optimizer = torch.optim.Adam(model.parameters(), lr = 0.0001)"
   ]
  },
  {
   "cell_type": "code",
   "execution_count": null,
   "metadata": {},
   "outputs": [
    {
     "name": "stdout",
     "output_type": "stream",
     "text": [
      "Epoch - 0, loss - 1.884418249130249\n",
      "Epoch - 50, loss - 0.2572912871837616\n",
      "Epoch - 100, loss - 0.20053139980882406\n",
      "Epoch - 150, loss - 0.06450021162163466\n",
      "Epoch - 200, loss - 0.020761054707691073\n",
      "Epoch - 250, loss - 0.014194080606102943\n",
      "Epoch - 300, loss - 0.010789531806949526\n",
      "Epoch - 350, loss - 0.008891828139894642\n",
      "Epoch - 400, loss - 0.008095994344330393\n",
      "Epoch - 450, loss - 0.007598797819809988\n",
      "Epoch - 500, loss - 0.00723774015204981\n",
      "Epoch - 550, loss - 0.0069351830024970695\n",
      "Epoch - 600, loss - 0.006659524151473306\n",
      "Epoch - 650, loss - 0.006566434181877412\n",
      "Epoch - 700, loss - 0.006449092979892157\n",
      "Epoch - 750, loss - 0.006231920735444874\n",
      "Epoch - 800, loss - 0.006118021599831991\n",
      "Epoch - 850, loss - 0.00571413486613892\n",
      "Epoch - 900, loss - 0.005948175268713385\n",
      "Epoch - 950, loss - 0.005787626338133123\n",
      "Epoch - 1000, loss - 0.005815909702505451\n",
      "Epoch - 1050, loss - 0.005630299361655489\n",
      "Epoch - 1100, loss - 0.00559011688164901\n",
      "Epoch - 1150, loss - 0.005475175072206184\n",
      "Epoch - 1200, loss - 0.005358710564905778\n",
      "Epoch - 1250, loss - 0.0054161865409696475\n",
      "Epoch - 1300, loss - 0.0053631093323929235\n",
      "Epoch - 1350, loss - 0.0052439268547459505\n",
      "Epoch - 1400, loss - 0.004762673590448685\n",
      "Epoch - 1450, loss - 0.005185730995435733\n"
     ]
    }
   ],
   "source": [
    "for epoch in range(1500):\n",
    "    running_loss = 0.0\n",
    "    for input, target in train_loader:\n",
    "        optimizer.zero_grad()\n",
    "        input, target = input.reshape((-1, sequence_length, 1)).to('cuda'), target.to('cuda')\n",
    "        output = model(input).reshape(-1)\n",
    "        loss = criterion(output, target)\n",
    "        loss.backward()\n",
    "        running_loss += loss.item()\n",
    "        optimizer.step()\n",
    "    if epoch % 50 == 0:\n",
    "        print(f'epoch - {epoch}, loss - {running_loss}')"
   ]
  },
  {
   "cell_type": "code",
   "execution_count": 13,
   "metadata": {},
   "outputs": [],
   "source": [
    "model.eval()\n",
    "all_preds, all_labels = [], []\n",
    "for input, target in test_loader:\n",
    "    input, target = input.reshape((-1, sequence_length, 1)).to('cuda'), target.to('cuda')\n",
    "    output = model(input).reshape(-1)\n",
    "    all_preds.extend(output.to('cpu').detach().numpy())\n",
    "    all_labels.extend(target.to('cpu').detach().numpy())"
   ]
  },
  {
   "cell_type": "code",
   "execution_count": 15,
   "metadata": {},
   "outputs": [
    {
     "name": "stdout",
     "output_type": "stream",
     "text": [
      "4.5176323252103486e-05\n"
     ]
    }
   ],
   "source": [
    "from sklearn.metrics import mean_squared_error\n",
    "print(mean_squared_error(all_preds, all_labels))"
   ]
  },
  {
   "cell_type": "code",
   "execution_count": null,
   "metadata": {},
   "outputs": [],
   "source": []
  }
 ],
 "metadata": {
  "kernelspec": {
   "display_name": "venv",
   "language": "python",
   "name": "python3"
  },
  "language_info": {
   "codemirror_mode": {
    "name": "ipython",
    "version": 3
   },
   "file_extension": ".py",
   "mimetype": "text/x-python",
   "name": "python",
   "nbconvert_exporter": "python",
   "pygments_lexer": "ipython3",
   "version": "3.13.2"
  }
 },
 "nbformat": 4,
 "nbformat_minor": 2
}
