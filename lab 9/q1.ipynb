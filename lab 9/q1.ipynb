{
 "cells": [
  {
   "cell_type": "code",
   "execution_count": 1,
   "metadata": {},
   "outputs": [],
   "source": [
    "import torch\n",
    "import pandas as pd\n",
    "import numpy as np"
   ]
  },
  {
   "cell_type": "code",
   "execution_count": 2,
   "metadata": {},
   "outputs": [],
   "source": [
    "df = pd.read_csv('./daily_csv.csv')\n",
    "df = df.dropna()\n",
    "prices = df['Price'].values\n",
    "minn, maxx = prices.min(), prices.max()\n",
    "prices = (prices - minn) / (maxx - minn)\n",
    "X, y = [], []\n",
    "sequence_length = 10\n",
    "for i in range(5900):\n",
    "    l = []\n",
    "    for j in range(i, i + sequence_length):\n",
    "        l.append(prices[j])\n",
    "    X.append(l)\n",
    "    y.append(prices[i + sequence_length])\n",
    "X, y = np.array(X), np.array(y)\n"
   ]
  },
  {
   "cell_type": "code",
   "execution_count": 3,
   "metadata": {},
   "outputs": [],
   "source": [
    "from sklearn.model_selection import train_test_split\n",
    "xtrain, xtest, ytrain, ytest = train_test_split(X, y, test_size= 0.10, random_state= 42, stratify= None)"
   ]
  },
  {
   "cell_type": "code",
   "execution_count": 4,
   "metadata": {},
   "outputs": [],
   "source": [
    "class Data(torch.utils.data.Dataset):\n",
    "    def __init__(self, x, y):\n",
    "        super().__init__()\n",
    "        self.x = torch.tensor(x, dtype= torch.float32)\n",
    "        self.y = torch.tensor(y, dtype= torch.float32)\n",
    "    def __len__(self):\n",
    "        return len(self.y)\n",
    "    def __getitem__(self, index):\n",
    "        return self.x[index], self.y[index]"
   ]
  },
  {
   "cell_type": "code",
   "execution_count": 5,
   "metadata": {},
   "outputs": [],
   "source": [
    "train = Data(xtrain, ytrain)\n",
    "test = Data(xtest, ytest)\n",
    "train_loader = torch.utils.data.DataLoader(train, batch_size= 256, shuffle= True, drop_last= True)\n",
    "test_loader = torch.utils.data.DataLoader(test, batch_size= 256, drop_last= True)"
   ]
  },
  {
   "cell_type": "code",
   "execution_count": 6,
   "metadata": {},
   "outputs": [],
   "source": [
    "class Network(torch.nn.Module):\n",
    "    def __init__(self):\n",
    "        super().__init__()\n",
    "        self.lstm = torch.nn.LSTM(input_size= 1, hidden_size= 5, batch_first= True, num_layers= 1)\n",
    "        self.fc1 = torch.nn.Linear(in_features= 5, out_features= 1)\n",
    "    def forward(self, x):\n",
    "        y, h = self.lstm(x)\n",
    "        y = y[:, -1, :]\n",
    "        return self.fc1(torch.relu(y))"
   ]
  },
  {
   "cell_type": "code",
   "execution_count": 7,
   "metadata": {},
   "outputs": [],
   "source": [
    "model = Network()\n",
    "model = model.to('cuda')\n",
    "criterion = torch.nn.MSELoss()\n",
    "optimizer = torch.optim.Adam(model.parameters(), lr= 0.001, weight_decay= 0.0001)"
   ]
  },
  {
   "cell_type": "code",
   "execution_count": 8,
   "metadata": {},
   "outputs": [
    {
     "name": "stdout",
     "output_type": "stream",
     "text": [
      "epoch - 0, loss - 2.630661256611347\n",
      "epoch - 50, loss - 0.010233054083073512\n",
      "epoch - 100, loss - 0.00796049420023337\n",
      "epoch - 150, loss - 0.007129891979275271\n",
      "epoch - 200, loss - 0.006717320633470081\n",
      "epoch - 250, loss - 0.006158123258501291\n",
      "epoch - 300, loss - 0.006205757803400047\n",
      "epoch - 350, loss - 0.006160298580653034\n",
      "epoch - 400, loss - 0.00603228453110205\n",
      "epoch - 450, loss - 0.005967340664938092\n",
      "epoch - 500, loss - 0.006108430010499433\n",
      "epoch - 550, loss - 0.00597940749139525\n",
      "epoch - 600, loss - 0.006088032110710628\n",
      "epoch - 650, loss - 0.005921397576457821\n",
      "epoch - 700, loss - 0.006085045810323209\n",
      "epoch - 750, loss - 0.0059607843577396125\n",
      "epoch - 800, loss - 0.005957723325991537\n",
      "epoch - 850, loss - 0.006008519136230461\n",
      "epoch - 900, loss - 0.0058382974384585395\n",
      "epoch - 950, loss - 0.006000779067107942\n",
      "epoch - 1000, loss - 0.006037230021320283\n",
      "epoch - 1050, loss - 0.005832437047502026\n",
      "epoch - 1100, loss - 0.005881681441678666\n",
      "epoch - 1150, loss - 0.006057295388018247\n",
      "epoch - 1200, loss - 0.005893064429983497\n",
      "epoch - 1250, loss - 0.005803264008136466\n",
      "epoch - 1300, loss - 0.005891071574296802\n",
      "epoch - 1350, loss - 0.005912818567594513\n",
      "epoch - 1400, loss - 0.005815135518787429\n",
      "epoch - 1450, loss - 0.0058704357070382684\n"
     ]
    }
   ],
   "source": [
    "model.train()\n",
    "for epoch in range(1500):\n",
    "    running_loss = 0.0\n",
    "    for input, target in train_loader:\n",
    "        optimizer.zero_grad()\n",
    "        input, target = input.reshape((-1, sequence_length, 1)).to('cuda'), target.to('cuda')\n",
    "        output = model(input).reshape(-1)\n",
    "        loss = criterion(output, target)\n",
    "        loss.backward()\n",
    "        running_loss += loss.item()\n",
    "        optimizer.step()\n",
    "    if epoch % 50 == 0:\n",
    "        print(f'epoch - {epoch}, loss - {running_loss}')\n"
   ]
  },
  {
   "cell_type": "code",
   "execution_count": 9,
   "metadata": {},
   "outputs": [],
   "source": [
    "model.eval()\n",
    "all_pred, all_label = [], []\n",
    "with torch.no_grad():\n",
    "    for input, target in test_loader:\n",
    "        input, target = input.reshape((-1, sequence_length, 1)).to('cuda'), target.to('cuda')\n",
    "        output = model(input).reshape(-1)\n",
    "        all_pred.extend(output.to('cpu').detach().numpy())\n",
    "        all_label.extend(target.to('cpu').detach().numpy())"
   ]
  },
  {
   "cell_type": "code",
   "execution_count": 10,
   "metadata": {},
   "outputs": [
    {
     "name": "stdout",
     "output_type": "stream",
     "text": [
      "0.00017887757890132044\n"
     ]
    }
   ],
   "source": [
    "from sklearn.metrics import mean_squared_error\n",
    "print(mean_squared_error(all_pred, all_label))"
   ]
  },
  {
   "cell_type": "code",
   "execution_count": null,
   "metadata": {},
   "outputs": [],
   "source": []
  }
 ],
 "metadata": {
  "kernelspec": {
   "display_name": "venv",
   "language": "python",
   "name": "python3"
  },
  "language_info": {
   "codemirror_mode": {
    "name": "ipython",
    "version": 3
   },
   "file_extension": ".py",
   "mimetype": "text/x-python",
   "name": "python",
   "nbconvert_exporter": "python",
   "pygments_lexer": "ipython3",
   "version": "3.13.2"
  }
 },
 "nbformat": 4,
 "nbformat_minor": 2
}
