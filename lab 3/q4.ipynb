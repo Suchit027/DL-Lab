{
 "cells": [
  {
   "cell_type": "code",
   "execution_count": 11,
   "metadata": {},
   "outputs": [],
   "source": [
    "import torch\n",
    "import torch.nn as nn\n",
    "# note\n",
    "import torch.optim as optim\n",
    "# note\n",
    "import torch.utils.data as data\n",
    "from matplotlib import pyplot as plt"
   ]
  },
  {
   "cell_type": "code",
   "execution_count": 12,
   "metadata": {},
   "outputs": [],
   "source": [
    "X = torch.tensor([5.0, 7.0, 12.0, 16.0, 20.0])\n",
    "y = torch.tensor([40.0, 120.0, 180.0, 210.0, 240.0])"
   ]
  },
  {
   "cell_type": "code",
   "execution_count": 13,
   "metadata": {},
   "outputs": [],
   "source": [
    "class LinearRegressionDataset(data.Dataset):\n",
    "    def __init__(self, X, y):\n",
    "        super().__init__()\n",
    "        self.X = X.reshape(-1, 1)\n",
    "        self.y = y.reshape(-1, 1)\n",
    "    \n",
    "    def __len__(self):\n",
    "        return len(self.X)\n",
    "    \n",
    "    def __getitem__(self, ind):\n",
    "        return self.X[ind], self.y[ind]"
   ]
  },
  {
   "cell_type": "code",
   "execution_count": 14,
   "metadata": {},
   "outputs": [],
   "source": [
    "class LinearRegression(nn.Module):\n",
    "    def __init__(self):\n",
    "        super().__init__()\n",
    "        # (1, 1) -> one input feature and one output feature\n",
    "        self.linear = nn.Linear(1, 1)\n",
    "\n",
    "    def forward(self, x):\n",
    "        return self.linear(x)"
   ]
  },
  {
   "cell_type": "code",
   "execution_count": 15,
   "metadata": {},
   "outputs": [],
   "source": [
    "dataset = LinearRegressionDataset(X, y)\n",
    "# batch_size is kept 1 as data is small. So treating it as stochastic gradient descent only\n",
    "batch_size = dataset.__len__()\n",
    "dataloader = data.DataLoader(dataset, batch_size=batch_size, shuffle= True)"
   ]
  },
  {
   "cell_type": "code",
   "execution_count": 16,
   "metadata": {},
   "outputs": [],
   "source": [
    "model = LinearRegression()\n",
    "criterion = nn.MSELoss()\n",
    "optimizer = optim.SGD(model.parameters(), lr= 0.001)"
   ]
  },
  {
   "cell_type": "code",
   "execution_count": 17,
   "metadata": {},
   "outputs": [
    {
     "name": "stdout",
     "output_type": "stream",
     "text": [
      "parameters = w = 4.221463203430176, b = 0.41613951325416565, loss = 32271.978515625\n",
      "parameters = w = 7.2796525955200195, b = 0.6299921274185181, loss = 13863.5732421875\n",
      "parameters = w = 9.263566017150879, b = 0.7700204849243164, loss = 6115.88134765625\n",
      "parameters = w = 10.550542831420898, b = 0.8621548414230347, loss = 2855.044677734375\n",
      "parameters = w = 11.385381698608398, b = 0.9232175350189209, loss = 1482.6240234375\n",
      "parameters = w = 11.926895141601562, b = 0.96412193775177, loss = 904.99462890625\n",
      "parameters = w = 12.27811336517334, b = 0.9919481873512268, loss = 661.8756713867188\n",
      "parameters = w = 12.505878448486328, b = 1.0112895965576172, loss = 559.5447998046875\n",
      "parameters = w = 12.653552055358887, b = 1.0251259803771973, loss = 516.4678344726562\n",
      "parameters = w = 12.749267578125, b = 1.0353904962539673, loss = 498.33013916015625\n",
      "parameters = w = 12.811274528503418, b = 1.043337345123291, loss = 490.6885681152344\n",
      "parameters = w = 12.851412773132324, b = 1.0497801303863525, loss = 487.4644470214844\n",
      "parameters = w = 12.877364158630371, b = 1.0552467107772827, loss = 486.09979248046875\n",
      "parameters = w = 12.894111633300781, b = 1.0600794553756714, loss = 485.51727294921875\n",
      "parameters = w = 12.904888153076172, b = 1.0645005702972412, loss = 485.2648010253906\n",
      "parameters = w = 12.91179084777832, b = 1.0686542987823486, loss = 485.1507263183594\n",
      "parameters = w = 12.916180610656738, b = 1.072633981704712, loss = 485.09454345703125\n",
      "parameters = w = 12.918940544128418, b = 1.076500415802002, loss = 485.063232421875\n",
      "parameters = w = 12.920642852783203, b = 1.080292820930481, loss = 485.0423278808594\n",
      "parameters = w = 12.921659469604492, b = 1.0840368270874023, loss = 485.0254821777344\n",
      "parameters = w = 12.92223072052002, b = 1.0877488851547241, loss = 485.01123046875\n",
      "parameters = w = 12.922513008117676, b = 1.0914398431777954, loss = 484.99676513671875\n",
      "parameters = w = 12.922608375549316, b = 1.0951166152954102, loss = 484.98309326171875\n",
      "parameters = w = 12.922581672668457, b = 1.0987837314605713, loss = 484.9698181152344\n",
      "parameters = w = 12.922476768493652, b = 1.1024441719055176, loss = 484.956298828125\n",
      "parameters = w = 12.922320365905762, b = 1.1060998439788818, loss = 484.94287109375\n",
      "parameters = w = 12.922130584716797, b = 1.1097519397735596, loss = 484.92974853515625\n",
      "parameters = w = 12.921919822692871, b = 1.1134012937545776, loss = 484.916259765625\n",
      "parameters = w = 12.9216947555542, b = 1.1170483827590942, loss = 484.9027404785156\n",
      "parameters = w = 12.92146110534668, b = 1.120693564414978, loss = 484.889404296875\n",
      "parameters = w = 12.921221733093262, b = 1.124337077140808, loss = 484.8763122558594\n",
      "parameters = w = 12.920978546142578, b = 1.127979040145874, loss = 484.8627014160156\n",
      "parameters = w = 12.920733451843262, b = 1.1316195726394653, loss = 484.84942626953125\n",
      "parameters = w = 12.920486450195312, b = 1.135258674621582, loss = 484.83624267578125\n",
      "parameters = w = 12.920238494873047, b = 1.1388964653015137, loss = 484.8229064941406\n",
      "parameters = w = 12.919989585876465, b = 1.1425329446792603, loss = 484.8096618652344\n",
      "parameters = w = 12.919740676879883, b = 1.1461681127548218, loss = 484.79638671875\n",
      "parameters = w = 12.919490814208984, b = 1.1498019695281982, loss = 484.782958984375\n",
      "parameters = w = 12.919241905212402, b = 1.1534346342086792, loss = 484.7701110839844\n",
      "parameters = w = 12.91899299621582, b = 1.157065987586975, loss = 484.75653076171875\n",
      "parameters = w = 12.918743133544922, b = 1.160696029663086, loss = 484.74322509765625\n",
      "parameters = w = 12.918493270874023, b = 1.1643247604370117, loss = 484.7303771972656\n",
      "parameters = w = 12.918244361877441, b = 1.167952299118042, loss = 484.71710205078125\n",
      "parameters = w = 12.91799545288086, b = 1.1715785264968872, loss = 484.7035217285156\n",
      "parameters = w = 12.917746543884277, b = 1.1752034425735474, loss = 484.6904296875\n",
      "parameters = w = 12.917497634887695, b = 1.178827166557312, loss = 484.6770935058594\n",
      "parameters = w = 12.917248725891113, b = 1.1824495792388916, loss = 484.66375732421875\n",
      "parameters = w = 12.916999816894531, b = 1.1860706806182861, loss = 484.65087890625\n",
      "parameters = w = 12.91675090789795, b = 1.1896905899047852, loss = 484.63763427734375\n",
      "parameters = w = 12.916501998901367, b = 1.1933091878890991, loss = 484.62445068359375\n",
      "parameters = w = 12.916253089904785, b = 1.196926474571228, loss = 484.611328125\n",
      "parameters = w = 12.916004180908203, b = 1.2005425691604614, loss = 484.5982360839844\n",
      "parameters = w = 12.915756225585938, b = 1.2041573524475098, loss = 484.58465576171875\n",
      "parameters = w = 12.915508270263672, b = 1.2077709436416626, loss = 484.5718688964844\n",
      "parameters = w = 12.915260314941406, b = 1.2113832235336304, loss = 484.5589904785156\n",
      "parameters = w = 12.91501235961914, b = 1.214994192123413, loss = 484.5458068847656\n",
      "parameters = w = 12.914764404296875, b = 1.2186039686203003, loss = 484.5323791503906\n",
      "parameters = w = 12.91451644897461, b = 1.2222124338150024, loss = 484.51953125\n",
      "parameters = w = 12.914268493652344, b = 1.2258195877075195, loss = 484.5064392089844\n",
      "parameters = w = 12.914020538330078, b = 1.2294255495071411, loss = 484.49346923828125\n",
      "parameters = w = 12.913772583007812, b = 1.2330302000045776, loss = 484.4800720214844\n",
      "parameters = w = 12.913524627685547, b = 1.236633539199829, loss = 484.4671936035156\n",
      "parameters = w = 12.913276672363281, b = 1.240235686302185, loss = 484.45440673828125\n",
      "parameters = w = 12.913029670715332, b = 1.243836522102356, loss = 484.441162109375\n",
      "parameters = w = 12.912782669067383, b = 1.2474361658096313, loss = 484.4280700683594\n",
      "parameters = w = 12.912535667419434, b = 1.2510344982147217, loss = 484.4149475097656\n",
      "parameters = w = 12.912288665771484, b = 1.254631519317627, loss = 484.4020080566406\n",
      "parameters = w = 12.912040710449219, b = 1.2582273483276367, loss = 484.3892517089844\n",
      "parameters = w = 12.91179370880127, b = 1.2618218660354614, loss = 484.376220703125\n",
      "parameters = w = 12.91154670715332, b = 1.2654151916503906, loss = 484.36297607421875\n",
      "parameters = w = 12.911299705505371, b = 1.2690072059631348, loss = 484.35009765625\n",
      "parameters = w = 12.911053657531738, b = 1.2725980281829834, loss = 484.33709716796875\n",
      "parameters = w = 12.910806655883789, b = 1.276187539100647, loss = 484.3240661621094\n",
      "parameters = w = 12.910560607910156, b = 1.279775857925415, loss = 484.3111267089844\n",
      "parameters = w = 12.910313606262207, b = 1.283362865447998, loss = 484.29852294921875\n",
      "parameters = w = 12.910067558288574, b = 1.2869486808776855, loss = 484.28546142578125\n",
      "parameters = w = 12.909821510314941, b = 1.290533185005188, loss = 484.272705078125\n",
      "parameters = w = 12.909575462341309, b = 1.2941163778305054, loss = 484.25970458984375\n",
      "parameters = w = 12.909329414367676, b = 1.2976983785629272, loss = 484.24676513671875\n",
      "parameters = w = 12.909083366394043, b = 1.301279067993164, loss = 484.2337951660156\n",
      "parameters = w = 12.90883731842041, b = 1.3048585653305054, loss = 484.2208557128906\n",
      "parameters = w = 12.908591270446777, b = 1.3084367513656616, loss = 484.20831298828125\n",
      "parameters = w = 12.908345222473145, b = 1.3120137453079224, loss = 484.19512939453125\n",
      "parameters = w = 12.908099174499512, b = 1.315589427947998, loss = 484.18231201171875\n",
      "parameters = w = 12.907854080200195, b = 1.3191639184951782, loss = 484.16961669921875\n",
      "parameters = w = 12.907608032226562, b = 1.3227370977401733, loss = 484.1563415527344\n",
      "parameters = w = 12.907362937927246, b = 1.326309084892273, loss = 484.14373779296875\n",
      "parameters = w = 12.90711784362793, b = 1.3298797607421875, loss = 484.130859375\n",
      "parameters = w = 12.906872749328613, b = 1.333449125289917, loss = 484.1183166503906\n",
      "parameters = w = 12.906627655029297, b = 1.337017297744751, loss = 484.10528564453125\n",
      "parameters = w = 12.90638256072998, b = 1.3405841588974, loss = 484.09271240234375\n",
      "parameters = w = 12.906137466430664, b = 1.3441498279571533, loss = 484.07977294921875\n",
      "parameters = w = 12.905892372131348, b = 1.3477141857147217, loss = 484.06695556640625\n",
      "parameters = w = 12.905647277832031, b = 1.3512773513793945, loss = 484.05438232421875\n",
      "parameters = w = 12.905402183532715, b = 1.3548392057418823, loss = 484.04168701171875\n",
      "parameters = w = 12.905158042907715, b = 1.3583998680114746, loss = 484.02862548828125\n",
      "parameters = w = 12.904912948608398, b = 1.3619593381881714, loss = 484.0160217285156\n",
      "parameters = w = 12.904667854309082, b = 1.365517497062683, loss = 484.003662109375\n",
      "parameters = w = 12.904423713684082, b = 1.3690744638442993, loss = 483.990478515625\n",
      "parameters = w = 12.904179573059082, b = 1.3726301193237305, loss = 483.9778747558594\n"
     ]
    }
   ],
   "source": [
    "loss_list = []\n",
    "for epoch in range(100):\n",
    "    # setting model to training mode\n",
    "    model.train()\n",
    "    running_loss = 0.0\n",
    "    for input, target in dataloader:\n",
    "        optimizer.zero_grad()\n",
    "        output = model(input)\n",
    "        loss = criterion(output, target)\n",
    "        loss.backward()\n",
    "        optimizer.step()\n",
    "        running_loss += loss.item()\n",
    "    print(f'parameters = w = {model.linear.weight.item()}, b = {model.linear.bias.item()}, loss = {loss.item()}')\n",
    "    loss_list.append(running_loss)\n",
    "        "
   ]
  },
  {
   "cell_type": "code",
   "execution_count": 18,
   "metadata": {},
   "outputs": [
    {
     "data": {
      "image/png": "[encoded data removed]",
      "text/plain": [
       "<Figure size 640x480 with 1 Axes>"
      ]
     },
     "metadata": {},
     "output_type": "display_data"
    }
   ],
   "source": [
    "plt.plot(loss_list)\n",
    "plt.show()"
   ]
  },
  {
   "cell_type": "code",
   "execution_count": null,
   "metadata": {},
   "outputs": [],
   "source": []
  }
 ],
 "metadata": {
  "kernelspec": {
   "display_name": "venv",
   "language": "python",
   "name": "python3"
  },
  "language_info": {
   "codemirror_mode": {
    "name": "ipython",
    "version": 3
   },
   "file_extension": ".py",
   "mimetype": "text/x-python",
   "name": "python",
   "nbconvert_exporter": "python",
   "pygments_lexer": "ipython3",
   "version": "3.12.3"
  }
 },
 "nbformat": 4,
 "nbformat_minor": 2
}
