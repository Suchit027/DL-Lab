{
 "cells": [
  {
   "cell_type": "code",
   "execution_count": 1,
   "metadata": {},
   "outputs": [],
   "source": [
    "import torch\n",
    "import torch.nn as nn\n",
    "import torch.optim as optim\n",
    "import torch.utils.data as data\n",
    "from matplotlib import pyplot as plt"
   ]
  },
  {
   "cell_type": "code",
   "execution_count": 2,
   "metadata": {},
   "outputs": [],
   "source": [
    "X = torch.tensor([5.0, 7.0, 12.0, 16.0, 20.0])\n",
    "y = torch.tensor([40.0, 120.0, 180.0, 210.0, 240.0])"
   ]
  },
  {
   "cell_type": "code",
   "execution_count": 3,
   "metadata": {},
   "outputs": [],
   "source": [
    "class LinearRegressionDataset(data.Dataset):\n",
    "    def __init__(self, X, y):\n",
    "        super().__init__()\n",
    "        # note\n",
    "        self.X = X.reshape(-1, 1)\n",
    "        self.y = y.reshape(-1, 1)\n",
    "    \n",
    "    def __len__(self):\n",
    "        return len(self.X)\n",
    "    \n",
    "    # note\n",
    "    def __getitem__(self, ind):\n",
    "        return self.X[ind], self.y[ind]"
   ]
  },
  {
   "cell_type": "code",
   "execution_count": 4,
   "metadata": {},
   "outputs": [],
   "source": [
    "class LinearRegression(nn.Module):\n",
    "    def __init__(self):\n",
    "        super().__init__()\n",
    "        # note\n",
    "        self.w = nn.Parameter(torch.rand(1))\n",
    "        self.b = nn.Parameter(torch.rand(1))\n",
    "\n",
    "    def forward(self, x):\n",
    "        return (self.w * x) + self.b"
   ]
  },
  {
   "cell_type": "code",
   "execution_count": 5,
   "metadata": {},
   "outputs": [],
   "source": [
    "dataset = LinearRegressionDataset(X, y)\n",
    "# batch_size is kept 1 as data is small. So treating it as stochastic gradient descent only\n",
    "batch_size = len(dataset)\n",
    "dataloader = data.DataLoader(dataset, batch_size=batch_size, shuffle= True)"
   ]
  },
  {
   "cell_type": "code",
   "execution_count": 6,
   "metadata": {},
   "outputs": [],
   "source": [
    "model = LinearRegression()\n",
    "criterion = nn.MSELoss()\n",
    "optimizer = optim.SGD(model.parameters(), lr= 0.001)"
   ]
  },
  {
   "cell_type": "code",
   "execution_count": 7,
   "metadata": {},
   "outputs": [
    {
     "name": "stdout",
     "output_type": "stream",
     "text": [
      "parameters = w = 5.100453853607178, b = 0.8587992191314697, loss = 26005.55859375\n",
      "parameters = w = 7.840723991394043, b = 1.0506707429885864, loss = 11225.376953125\n",
      "parameters = w = 9.618391036987305, b = 1.1763920783996582, loss = 5004.7255859375\n",
      "parameters = w = 10.771568298339844, b = 1.2591979503631592, loss = 2386.58544921875\n",
      "parameters = w = 11.519607543945312, b = 1.3141618967056274, loss = 1284.66162109375\n",
      "parameters = w = 12.004813194274902, b = 1.3510630130767822, loss = 820.8795776367188\n",
      "parameters = w = 12.319504737854004, b = 1.376245379447937, loss = 625.677001953125\n",
      "parameters = w = 12.523575782775879, b = 1.393824815750122, loss = 543.5131225585938\n",
      "parameters = w = 12.655881881713867, b = 1.4064713716506958, loss = 508.92510986328125\n",
      "parameters = w = 12.741630554199219, b = 1.4159172773361206, loss = 494.36065673828125\n",
      "parameters = w = 12.797174453735352, b = 1.4232863187789917, loss = 488.2232360839844\n",
      "parameters = w = 12.833123207092285, b = 1.4293075799942017, loss = 485.6329040527344\n",
      "parameters = w = 12.856359481811523, b = 1.4344539642333984, loss = 484.53570556640625\n",
      "parameters = w = 12.871349334716797, b = 1.4390324354171753, loss = 484.06658935546875\n",
      "parameters = w = 12.880989074707031, b = 1.4432419538497925, loss = 483.8619079589844\n",
      "parameters = w = 12.887157440185547, b = 1.447211742401123, loss = 483.768310546875\n",
      "parameters = w = 12.891074180603027, b = 1.4510254859924316, loss = 483.72198486328125\n",
      "parameters = w = 12.893529891967773, b = 1.454737663269043, loss = 483.69488525390625\n",
      "parameters = w = 12.895037651062012, b = 1.4583834409713745, loss = 483.67657470703125\n",
      "parameters = w = 12.895931243896484, b = 1.4619858264923096, loss = 483.6612854003906\n",
      "parameters = w = 12.8964262008667, b = 1.465559482574463, loss = 483.6478576660156\n",
      "parameters = w = 12.896662712097168, b = 1.4691141843795776, loss = 483.63482666015625\n",
      "parameters = w = 12.896730422973633, b = 1.472656011581421, loss = 483.622314453125\n",
      "parameters = w = 12.896689414978027, b = 1.476189136505127, loss = 483.60955810546875\n",
      "parameters = w = 12.896577835083008, b = 1.479716181755066, loss = 483.59716796875\n",
      "parameters = w = 12.896421432495117, b = 1.483238935470581, loss = 483.58447265625\n",
      "parameters = w = 12.896234512329102, b = 1.4867583513259888, loss = 483.572509765625\n",
      "parameters = w = 12.896028518676758, b = 1.490275263786316, loss = 483.55975341796875\n",
      "parameters = w = 12.8958101272583, b = 1.4937900304794312, loss = 483.5472106933594\n",
      "parameters = w = 12.895584106445312, b = 1.4973030090332031, loss = 483.53521728515625\n",
      "parameters = w = 12.895352363586426, b = 1.500814437866211, loss = 483.5228576660156\n",
      "parameters = w = 12.89511775970459, b = 1.5043243169784546, loss = 483.510498046875\n",
      "parameters = w = 12.894881248474121, b = 1.5078328847885132, loss = 483.498046875\n",
      "parameters = w = 12.89464282989502, b = 1.5113400220870972, loss = 483.4856872558594\n",
      "parameters = w = 12.894403457641602, b = 1.5148459672927856, loss = 483.47332763671875\n",
      "parameters = w = 12.894164085388184, b = 1.518350601196289, loss = 483.46063232421875\n",
      "parameters = w = 12.89392375946045, b = 1.5218539237976074, loss = 483.4483947753906\n",
      "parameters = w = 12.893683433532715, b = 1.5253560543060303, loss = 483.43634033203125\n",
      "parameters = w = 12.89344310760498, b = 1.5288569927215576, loss = 483.42388916015625\n",
      "parameters = w = 12.893202781677246, b = 1.5323566198349, loss = 483.41180419921875\n",
      "parameters = w = 12.892962455749512, b = 1.5358550548553467, loss = 483.39910888671875\n",
      "parameters = w = 12.892722129821777, b = 1.539352297782898, loss = 483.3870544433594\n",
      "parameters = w = 12.892481803894043, b = 1.5428482294082642, loss = 483.37457275390625\n",
      "parameters = w = 12.892241477966309, b = 1.5463429689407349, loss = 483.362548828125\n",
      "parameters = w = 12.89200210571289, b = 1.54983651638031, loss = 483.3501892089844\n",
      "parameters = w = 12.891761779785156, b = 1.5533287525177002, loss = 483.3377380371094\n",
      "parameters = w = 12.891522407531738, b = 1.5568197965621948, loss = 483.3255920410156\n",
      "parameters = w = 12.891282081604004, b = 1.560309648513794, loss = 483.3133850097656\n",
      "parameters = w = 12.891042709350586, b = 1.5637983083724976, loss = 483.30133056640625\n",
      "parameters = w = 12.890803337097168, b = 1.5672856569290161, loss = 483.28924560546875\n",
      "parameters = w = 12.89056396484375, b = 1.5707718133926392, loss = 483.2767639160156\n",
      "parameters = w = 12.890324592590332, b = 1.5742567777633667, loss = 483.26458740234375\n",
      "parameters = w = 12.890085220336914, b = 1.5777404308319092, loss = 483.2523498535156\n",
      "parameters = w = 12.889845848083496, b = 1.5812228918075562, loss = 483.2398986816406\n",
      "parameters = w = 12.889606475830078, b = 1.5847041606903076, loss = 483.22802734375\n",
      "parameters = w = 12.88936710357666, b = 1.5881842374801636, loss = 483.2157287597656\n",
      "parameters = w = 12.889127731323242, b = 1.5916630029678345, loss = 483.203857421875\n",
      "parameters = w = 12.888888359069824, b = 1.5951405763626099, loss = 483.1917419433594\n",
      "parameters = w = 12.888649940490723, b = 1.5986169576644897, loss = 483.1795349121094\n",
      "parameters = w = 12.888411521911621, b = 1.6020921468734741, loss = 483.16717529296875\n",
      "parameters = w = 12.88817310333252, b = 1.605566143989563, loss = 483.1548767089844\n",
      "parameters = w = 12.887934684753418, b = 1.6090388298034668, loss = 483.1429138183594\n",
      "parameters = w = 12.8876953125, b = 1.612510323524475, loss = 483.13079833984375\n",
      "parameters = w = 12.887456893920898, b = 1.615980625152588, loss = 483.11883544921875\n",
      "parameters = w = 12.887218475341797, b = 1.6194497346878052, loss = 483.106689453125\n",
      "parameters = w = 12.886980056762695, b = 1.6229175329208374, loss = 483.09478759765625\n",
      "parameters = w = 12.886741638183594, b = 1.6263841390609741, loss = 483.08221435546875\n",
      "parameters = w = 12.886503219604492, b = 1.6298495531082153, loss = 483.07025146484375\n",
      "parameters = w = 12.88626480102539, b = 1.633313775062561, loss = 483.0585021972656\n",
      "parameters = w = 12.886027336120605, b = 1.6367768049240112, loss = 483.04595947265625\n",
      "parameters = w = 12.88578987121582, b = 1.640238642692566, loss = 483.03424072265625\n",
      "parameters = w = 12.885552406311035, b = 1.6436991691589355, loss = 483.0218200683594\n",
      "parameters = w = 12.885313987731934, b = 1.6471585035324097, loss = 483.01031494140625\n",
      "parameters = w = 12.885076522827148, b = 1.6506166458129883, loss = 482.99810791015625\n",
      "parameters = w = 12.884839057922363, b = 1.6540735960006714, loss = 482.9861755371094\n",
      "parameters = w = 12.884601593017578, b = 1.657529354095459, loss = 482.97418212890625\n",
      "parameters = w = 12.884364128112793, b = 1.6609838008880615, loss = 482.9619140625\n",
      "parameters = w = 12.884126663208008, b = 1.6644370555877686, loss = 482.95013427734375\n",
      "parameters = w = 12.883889198303223, b = 1.66788911819458, loss = 482.9378356933594\n",
      "parameters = w = 12.883651733398438, b = 1.671339988708496, loss = 482.9261169433594\n",
      "parameters = w = 12.883415222167969, b = 1.6747896671295166, loss = 482.91412353515625\n",
      "parameters = w = 12.883177757263184, b = 1.6782381534576416, loss = 482.90240478515625\n",
      "parameters = w = 12.882941246032715, b = 1.681685447692871, loss = 482.89031982421875\n",
      "parameters = w = 12.882704734802246, b = 1.685131549835205, loss = 482.878173828125\n",
      "parameters = w = 12.882468223571777, b = 1.688576340675354, loss = 482.8662109375\n",
      "parameters = w = 12.882231712341309, b = 1.6920199394226074, loss = 482.85430908203125\n",
      "parameters = w = 12.88199520111084, b = 1.6954623460769653, loss = 482.842529296875\n",
      "parameters = w = 12.881758689880371, b = 1.6989035606384277, loss = 482.83062744140625\n",
      "parameters = w = 12.881522178649902, b = 1.7023435831069946, loss = 482.81884765625\n",
      "parameters = w = 12.881285667419434, b = 1.705782413482666, loss = 482.8067321777344\n",
      "parameters = w = 12.881049156188965, b = 1.709220051765442, loss = 482.7950134277344\n",
      "parameters = w = 12.880813598632812, b = 1.7126564979553223, loss = 482.78326416015625\n",
      "parameters = w = 12.880577087402344, b = 1.7160916328430176, loss = 482.77117919921875\n",
      "parameters = w = 12.880341529846191, b = 1.7195255756378174, loss = 482.7594299316406\n",
      "parameters = w = 12.880105018615723, b = 1.7229583263397217, loss = 482.74755859375\n",
      "parameters = w = 12.87986946105957, b = 1.7263898849487305, loss = 482.73583984375\n",
      "parameters = w = 12.879633903503418, b = 1.7298202514648438, loss = 482.7236328125\n",
      "parameters = w = 12.879398345947266, b = 1.7332494258880615, loss = 482.712158203125\n",
      "parameters = w = 12.879162788391113, b = 1.7366774082183838, loss = 482.70013427734375\n",
      "parameters = w = 12.878927230834961, b = 1.7401041984558105, loss = 482.6883850097656\n"
     ]
    }
   ],
   "source": [
    "loss_list = []\n",
    "for epoch in range(100):\n",
    "    # setting model to training mode\n",
    "    model.train()\n",
    "    running_loss = 0.0\n",
    "    for input, target in dataloader:\n",
    "        optimizer.zero_grad()\n",
    "        output = model(input)\n",
    "        loss = criterion(output, target)\n",
    "        loss.backward()\n",
    "        optimizer.step()\n",
    "        running_loss += loss.item()\n",
    "    print(f'parameters = w = {model.w.item()}, b = {model.b.item()}, loss = {loss.item()}')\n",
    "    loss_list.append(running_loss)\n",
    "        "
   ]
  },
  {
   "cell_type": "code",
   "execution_count": 8,
   "metadata": {},
   "outputs": [
    {
     "data": {
      "image/png": "[encoded data removed]",
      "text/plain": [
       "<Figure size 640x480 with 1 Axes>"
      ]
     },
     "metadata": {},
     "output_type": "display_data"
    }
   ],
   "source": [
    "plt.plot(loss_list)\n",
    "plt.show()"
   ]
  },
  {
   "cell_type": "code",
   "execution_count": null,
   "metadata": {},
   "outputs": [],
   "source": []
  }
 ],
 "metadata": {
  "kernelspec": {
   "display_name": "venv",
   "language": "python",
   "name": "python3"
  },
  "language_info": {
   "codemirror_mode": {
    "name": "ipython",
    "version": 3
   },
   "file_extension": ".py",
   "mimetype": "text/x-python",
   "name": "python",
   "nbconvert_exporter": "python",
   "pygments_lexer": "ipython3",
   "version": "3.12.9"
  }
 },
 "nbformat": 4,
 "nbformat_minor": 2
}
